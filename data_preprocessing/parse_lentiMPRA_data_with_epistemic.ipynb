{
 "cells": [
  {
   "cell_type": "markdown",
   "metadata": {},
   "source": [
    "Parse lentiMPRA data into format for training distilled models with mean+aleatoric+epistemic prediction.\n",
    "\n",
    "Add the standard deviation of the ensemble predictions (epistemic uncertainty) for the activity output to the .h5 file containing the mean and aleatoric uncertainty (`/home/jessica/ensemble_distillation/data/lentiMPRA/{celltype}_data_with_aleatoric.h5`).\n",
    "\n",
    "Also add the mean of the ensemble predictions for the activity and aleatoric uncertainty outputs for the training set to the .h5 file.\n",
    "\n",
    "[Data source](https://www.biorxiv.org/content/10.1101/2023.03.05.531189v1.supplementary-material)\n",
    "- Sequences: Supplementary Table 3\n",
    "- Target values: Supplementary Table 4 (summary level data, mean column)"
   ]
  },
  {
   "cell_type": "code",
   "execution_count": 1,
   "metadata": {},
   "outputs": [
    {
     "name": "stderr",
     "output_type": "stream",
     "text": [
      "2024-07-07 12:52:25.232532: I tensorflow/core/platform/cpu_feature_guard.cc:193] This TensorFlow binary is optimized with oneAPI Deep Neural Network Library (oneDNN) to use the following CPU instructions in performance-critical operations:  AVX2 FMA\n",
      "To enable them in other operations, rebuild TensorFlow with the appropriate compiler flags.\n",
      "2024-07-07 12:52:26.309280: W tensorflow/compiler/xla/stream_executor/platform/default/dso_loader.cc:64] Could not load dynamic library 'libnvinfer.so.7'; dlerror: libnvinfer.so.7: cannot open shared object file: No such file or directory; LD_LIBRARY_PATH: /usr/local/cuda-11.2/lib64:/lib\n",
      "2024-07-07 12:52:26.309377: W tensorflow/compiler/xla/stream_executor/platform/default/dso_loader.cc:64] Could not load dynamic library 'libnvinfer_plugin.so.7'; dlerror: libnvinfer_plugin.so.7: cannot open shared object file: No such file or directory; LD_LIBRARY_PATH: /usr/local/cuda-11.2/lib64:/lib\n",
      "2024-07-07 12:52:26.309383: W tensorflow/compiler/tf2tensorrt/utils/py_utils.cc:38] TF-TRT Warning: Cannot dlopen some TensorRT libraries. If you would like to use Nvidia GPU with TensorRT, please make sure the missing libraries mentioned above are installed properly.\n"
     ]
    }
   ],
   "source": [
    "import h5py \n",
    "import pandas as pd\n",
    "import numpy as np\n",
    "np.random.seed(1234)\n",
    "import sys\n",
    "sys.path.append(\"../code\")\n",
    "from utils import load_lentiMPRA_data, downsample\n",
    "from os.path import join\n",
    "import matplotlib.pyplot as plt"
   ]
  },
  {
   "cell_type": "code",
   "execution_count": 2,
   "metadata": {},
   "outputs": [],
   "source": [
    "data_dir=\"../data/lentiMPRA\""
   ]
  },
  {
   "cell_type": "markdown",
   "metadata": {},
   "source": [
    "# K562\n",
    "\n",
    "## Load data w/ aleatoric std \n",
    "Adding distillation data to this file."
   ]
  },
  {
   "cell_type": "code",
   "execution_count": 3,
   "metadata": {},
   "outputs": [],
   "source": [
    "celltype = 'K562'\n",
    "evoaug = True"
   ]
  },
  {
   "cell_type": "code",
   "execution_count": 4,
   "metadata": {},
   "outputs": [],
   "source": [
    "X_train, y_train, X_test, y_test, X_val, y_val = load_lentiMPRA_data(join(data_dir, f'{celltype}_data_with_aleatoric.h5'))"
   ]
  },
  {
   "cell_type": "code",
   "execution_count": 5,
   "metadata": {},
   "outputs": [],
   "source": [
    "assert(y_train.shape[-1]==2)\n",
    "assert(y_test.shape[-1]==2)\n",
    "assert(y_val.shape[-1]==2)"
   ]
  },
  {
   "cell_type": "code",
   "execution_count": 6,
   "metadata": {},
   "outputs": [
    {
     "data": {
      "text/plain": [
       "(180564, 230, 4)"
      ]
     },
     "execution_count": 6,
     "metadata": {},
     "output_type": "execute_result"
    }
   ],
   "source": [
    "X_train.shape"
   ]
  },
  {
   "cell_type": "code",
   "execution_count": 7,
   "metadata": {},
   "outputs": [
    {
     "data": {
      "text/plain": [
       "(22571, 230, 4)"
      ]
     },
     "execution_count": 7,
     "metadata": {},
     "output_type": "execute_result"
    }
   ],
   "source": [
    "X_test.shape"
   ]
  },
  {
   "cell_type": "code",
   "execution_count": 8,
   "metadata": {},
   "outputs": [
    {
     "data": {
      "text/plain": [
       "(22570, 230, 4)"
      ]
     },
     "execution_count": 8,
     "metadata": {},
     "output_type": "execute_result"
    }
   ],
   "source": [
    "X_val.shape"
   ]
  },
  {
   "cell_type": "code",
   "execution_count": 9,
   "metadata": {},
   "outputs": [
    {
     "data": {
      "text/plain": [
       "0.75"
      ]
     },
     "execution_count": 9,
     "metadata": {},
     "output_type": "execute_result"
    }
   ],
   "source": [
    "135423/180564"
   ]
  },
  {
   "cell_type": "markdown",
   "metadata": {},
   "source": [
    "## Load epistemic std data\n",
    "\n",
    "- col0 = ensemble std of mean\n",
    "- col1 = ensemble std of aleatoric uncertainty"
   ]
  },
  {
   "cell_type": "code",
   "execution_count": 10,
   "metadata": {},
   "outputs": [],
   "source": [
    "if evoaug:\n",
    "    epistemic_train = np.load(join(data_dir, 'evoaug', f'{celltype}_ensemble_std_train.npy'))\n",
    "    epistemic_test = np.load(join(data_dir, 'evoaug', f'{celltype}_ensemble_std_test.npy'))\n",
    "    epistemic_val = np.load(join(data_dir, 'evoaug', f'{celltype}_ensemble_std_val.npy'))\n",
    "else:\n",
    "    epistemic_train = np.load(join(data_dir, f'{celltype}_ensemble_std_train.npy'))\n",
    "    epistemic_test = np.load(join(data_dir, f'{celltype}_ensemble_std_test.npy'))\n",
    "    epistemic_val = np.load(join(data_dir, f'{celltype}_ensemble_std_val.npy'))"
   ]
  },
  {
   "cell_type": "code",
   "execution_count": 11,
   "metadata": {},
   "outputs": [],
   "source": [
    "# check dims \n",
    "assert(epistemic_train.shape[0]==y_train.shape[0])\n",
    "assert(epistemic_test.shape[0]==y_test.shape[0])\n",
    "assert(epistemic_val.shape[0]==y_val.shape[0])"
   ]
  },
  {
   "cell_type": "code",
   "execution_count": 12,
   "metadata": {},
   "outputs": [
    {
     "data": {
      "text/plain": [
       "(180564, 2)"
      ]
     },
     "execution_count": 12,
     "metadata": {},
     "output_type": "execute_result"
    }
   ],
   "source": [
    "epistemic_train.shape"
   ]
  },
  {
   "cell_type": "markdown",
   "metadata": {},
   "source": [
    "## Load ensemble avg on train set\n",
    "\n",
    "Average should be computed from ensemble of models w/ activity+aleatoric outputs."
   ]
  },
  {
   "cell_type": "code",
   "execution_count": 10,
   "metadata": {},
   "outputs": [],
   "source": [
    "if evoaug:\n",
    "    ensemble_avg_y_train = np.load(f'../results/lentiMPRA_aleatoric_evoaug/{celltype}/ensemble_avg_y_train.npy')\n",
    "else:\n",
    "    ensemble_avg_y_train = np.load(f'../results/lentiMPRA_aleatoric/{celltype}/ensemble_avg_y_train.npy')\n",
    "assert(ensemble_avg_y_train.shape[-1]==2)"
   ]
  },
  {
   "cell_type": "markdown",
   "metadata": {},
   "source": [
    "### Visualize ensemble avg against ground truth data"
   ]
  },
  {
   "cell_type": "code",
   "execution_count": 11,
   "metadata": {},
   "outputs": [
    {
     "data": {
      "image/png": "[encoded data removed]",
      "text/plain": [
       "<Figure size 1000x500 with 2 Axes>"
      ]
     },
     "metadata": {},
     "output_type": "display_data"
    }
   ],
   "source": [
    "f, (ax1, ax2) = plt.subplots(1, 2, sharey=False, figsize=(10,5))\n",
    "ax1.scatter(y_train[:,0], ensemble_avg_y_train[:,0])\n",
    "ax1.set_xlabel('lentiMPRA')\n",
    "ax1.set_ylabel('ensemble avg')\n",
    "ax1.set_title('activity')\n",
    "ax2.scatter(y_train[:,1], ensemble_avg_y_train[:,1])\n",
    "ax2.set_xlabel('lentiMPRA')\n",
    "ax2.set_ylabel('ensemble avg')\n",
    "ax2.set_title('aleatoric uncertainty')\n",
    "f.suptitle(f'{celltype} - train seqs')\n",
    "plt.show()"
   ]
  },
  {
   "cell_type": "markdown",
   "metadata": {},
   "source": [
    "# Update train/test/val data \n",
    "For distilling lentiMPRA models w/ mean+aleatoric+epistemic."
   ]
  },
  {
   "cell_type": "code",
   "execution_count": 12,
   "metadata": {},
   "outputs": [],
   "source": [
    "distill_y_train = np.hstack((ensemble_avg_y_train, epistemic_train))\n",
    "distill_y_test = np.hstack((y_test, epistemic_test))\n",
    "distill_y_val = np.hstack((y_val, epistemic_val))"
   ]
  },
  {
   "cell_type": "markdown",
   "metadata": {},
   "source": [
    "## Write data to h5 file"
   ]
  },
  {
   "cell_type": "code",
   "execution_count": 13,
   "metadata": {},
   "outputs": [],
   "source": [
    "if evoaug:\n",
    "    h5_fh = f\"{data_dir}/evoaug/{celltype}_distillation_data_with_epistemic.h5\"\n",
    "else:\n",
    "    h5_fh = f\"{data_dir}{celltype}_distillation_data_with_epistemic.h5\"\n",
    "with h5py.File(h5_fh, 'w') as file:\n",
    "    # train\n",
    "    train = file.create_group(\"Train\")\n",
    "    train.create_dataset('X', data=X_train)\n",
    "    train.create_dataset('y', data=distill_y_train)\n",
    "\n",
    "    # test \n",
    "    test = file.create_group('Test')\n",
    "    test.create_dataset('X', data=X_test)\n",
    "    test.create_dataset('y', data=distill_y_test)\n",
    "\n",
    "    # val\n",
    "    val = file.create_group('Val')\n",
    "    val.create_dataset('X', data = X_val)\n",
    "    val.create_dataset('y', data=distill_y_val)"
   ]
  },
  {
   "cell_type": "markdown",
   "metadata": {},
   "source": [
    "# For downsampled data"
   ]
  },
  {
   "cell_type": "code",
   "execution_count": 14,
   "metadata": {},
   "outputs": [
    {
     "name": "stdout",
     "output_type": "stream",
     "text": [
      "downsample p=0.1\n",
      "(18056,)\n",
      "downsample p=0.25\n",
      "(45141,)\n",
      "downsample p=0.5\n",
      "(90282,)\n",
      "downsample p=0.75\n",
      "(135423,)\n"
     ]
    }
   ],
   "source": [
    "downsample_arr = [0.1, 0.25, 0.5, 0.75]\n",
    "# check ix \n",
    "for p in downsample_arr:\n",
    "    rng = np.random.default_rng(1234)\n",
    "    print(f'downsample p={p}')\n",
    "    generated_ix = downsample(X_train, y_train, rng, p, return_ix=True)\n",
    "    # load reference \n",
    "    ref_ix = np.load(f\"../data/lentiMPRA/{celltype}_downsample{p}_ix.npy\")\n",
    "    assert(np.all(generated_ix==ref_ix))\n",
    "    print(ref_ix.shape)"
   ]
  },
  {
   "cell_type": "code",
   "execution_count": 16,
   "metadata": {},
   "outputs": [
    {
     "name": "stdout",
     "output_type": "stream",
     "text": [
      "downsample p=0.1\n",
      "downsample p=0.25\n",
      "downsample p=0.5\n",
      "downsample p=0.75\n"
     ]
    }
   ],
   "source": [
    "downsample_arr = [0.1, 0.25, 0.5, 0.75]\n",
    "for p in downsample_arr:\n",
    "    print(f'downsample p={p}')\n",
    "\n",
    "    # load ix of downsampled cases\n",
    "    ref_ix = np.load(f\"../data/lentiMPRA/{celltype}_downsample{p}_ix.npy\")\n",
    "\n",
    "    # load ensemble metrics from files \n",
    "    ensemble_avg_y_train, std_train, std_test, std_val = None, None, None, None  \n",
    "\n",
    "    # ensemble mean\n",
    "    if evoaug:\n",
    "        ensemble_avg_y_train = np.load(f\"../results/lentiMPRA_aleatoric_evoaug/{celltype}/downsample_{p}/ensemble_avg_y_train.npy\")\n",
    "    else:\n",
    "        ensemble_avg_y_train = np.load(f\"../results/lentiMPRA_aleatoric/{celltype}/downsample_{p}/ensemble_avg_y_train.npy\")\n",
    "\n",
    "    # ensemble stdev\n",
    "    if evoaug:\n",
    "        std_train = np.load(f\"../data/lentiMPRA/evoaug/{celltype}_downsample{p}_ensemble_std_train.npy\")\n",
    "        std_test = np.load(f\"../data/lentiMPRA/evoaug/{celltype}_downsample{p}_ensemble_std_test.npy\")\n",
    "        std_val = np.load(f\"../data/lentiMPRA/evoaug/{celltype}_downsample{p}_ensemble_std_val.npy\")\n",
    "    else:\n",
    "        std_train = np.load(f\"../data/lentiMPRA/{celltype}_downsample{p}_ensemble_std_train.npy\")\n",
    "        std_test = np.load(f\"../data/lentiMPRA/{celltype}_downsample{p}_ensemble_std_test.npy\")\n",
    "        std_val = np.load(f\"../data/lentiMPRA/{celltype}_downsample{p}_ensemble_std_val.npy\")\n",
    "\n",
    "    # assertions\n",
    "    assert(ref_ix.shape[0]==ensemble_avg_y_train.shape[0])\n",
    "    assert(ref_ix.shape[0]==std_train.shape[0])\n",
    "    assert(y_test.shape[0]==std_test.shape[0])\n",
    "    assert(y_val.shape[0]==std_val.shape[0])\n",
    "    \n",
    "    distill_y_train = np.hstack((ensemble_avg_y_train, std_train))\n",
    "    distill_y_test = np.hstack((y_test, std_test))\n",
    "    distill_y_val = np.hstack((y_val, std_val))\n",
    "\n",
    "    # write to h5\n",
    "    if evoaug:\n",
    "        h5_path = f'../data/lentiMPRA/evoaug/{celltype}_downsample{p}_distillation_data_with_epistemic.h5'\n",
    "    else:\n",
    "        h5_path = f'../data/lentiMPRA/{celltype}_downsample{p}_distillation_data_with_epistemic.h5'\n",
    "    hf = h5py.File(h5_path, 'w')\n",
    "\n",
    "    # write train data\n",
    "    train = hf.create_group(\"Train\")\n",
    "    train.create_dataset(\"X\", data = X_train[ref_ix,:,:])\n",
    "    train.create_dataset(\"y\", data=distill_y_train)\n",
    "\n",
    "    # write test data\n",
    "    test = hf.create_group(\"Test\")\n",
    "    test.create_dataset(\"X\", data=X_test)\n",
    "    test.create_dataset(\"y\", data=distill_y_test)\n",
    "\n",
    "    # write val data\n",
    "    val = hf.create_group(\"Val\")\n",
    "    val.create_dataset(\"X\", data=X_val)\n",
    "    val.create_dataset(\"y\", data=distill_y_val)\n",
    "    hf.close()"
   ]
  },
  {
   "cell_type": "markdown",
   "metadata": {},
   "source": [
    "# HepG2\n",
    "\n",
    "## Load data w/ aleatoric std\n",
    "We will be adding the distillation data to this file"
   ]
  },
  {
   "cell_type": "code",
   "execution_count": 3,
   "metadata": {},
   "outputs": [],
   "source": [
    "celltype = 'HepG2'\n",
    "evoaug = True\n",
    "\n",
    "# load data w/ aleatoric std \n",
    "X_train, y_train, X_test, y_test, X_val, y_val = load_lentiMPRA_data(join(data_dir, f'{celltype}_data_with_aleatoric.h5'))\n",
    "\n",
    "# check dims\n",
    "assert(y_train.shape[-1]==2)\n",
    "assert(y_test.shape[-1]==2)\n",
    "assert(y_val.shape[-1]==2)"
   ]
  },
  {
   "cell_type": "markdown",
   "metadata": {},
   "source": [
    "## Load epistemic std data\n",
    "\n",
    "- col0 = ensemble std of mean\n",
    "- col1 = ensemble std of aleatoric uncertainty"
   ]
  },
  {
   "cell_type": "code",
   "execution_count": 4,
   "metadata": {},
   "outputs": [],
   "source": [
    "if evoaug:\n",
    "    epistemic_train = np.load(join(data_dir, 'evoaug', f'{celltype}_ensemble_std_train.npy'))\n",
    "    epistemic_test = np.load(join(data_dir, 'evoaug', f'{celltype}_ensemble_std_test.npy'))\n",
    "    epistemic_val = np.load(join(data_dir, 'evoaug', f'{celltype}_ensemble_std_val.npy'))\n",
    "else:\n",
    "    epistemic_train = np.load(join(data_dir, f'{celltype}_ensemble_std_train.npy'))\n",
    "    epistemic_test = np.load(join(data_dir, f'{celltype}_ensemble_std_test.npy'))\n",
    "    epistemic_val = np.load(join(data_dir, f'{celltype}_ensemble_std_val.npy'))"
   ]
  },
  {
   "cell_type": "code",
   "execution_count": 5,
   "metadata": {},
   "outputs": [],
   "source": [
    "# check dims \n",
    "assert(epistemic_train.shape[0]==y_train.shape[0])\n",
    "assert(epistemic_test.shape[0]==y_test.shape[0])\n",
    "assert(epistemic_val.shape[0]==y_val.shape[0])"
   ]
  },
  {
   "cell_type": "markdown",
   "metadata": {},
   "source": [
    "## Load ensemble avg on train set\n",
    "\n",
    "Average should be computed from ensemble of models w/ activity+aleatoric outputs."
   ]
  },
  {
   "cell_type": "code",
   "execution_count": 20,
   "metadata": {},
   "outputs": [],
   "source": [
    "if evoaug:\n",
    "    ensemble_avg_y_train = np.load(f'../results/lentiMPRA_aleatoric_evoaug/{celltype}/ensemble_avg_y_train.npy')\n",
    "else:\n",
    "    ensemble_avg_y_train = np.load(f'../results/lentiMPRA_aleatoric/{celltype}/ensemble_avg_y_train.npy')\n",
    "assert(ensemble_avg_y_train.shape[-1]==2)"
   ]
  },
  {
   "cell_type": "markdown",
   "metadata": {},
   "source": [
    "### Visualize ensemble avg against ground truth data"
   ]
  },
  {
   "cell_type": "code",
   "execution_count": 21,
   "metadata": {},
   "outputs": [
    {
     "data": {
      "image/png": "[encoded data removed]",
      "text/plain": [
       "<Figure size 1000x500 with 2 Axes>"
      ]
     },
     "metadata": {},
     "output_type": "display_data"
    }
   ],
   "source": [
    "f, (ax1, ax2) = plt.subplots(1, 2, sharey=False, figsize=(10,5))\n",
    "ax1.scatter(y_train[:,0], ensemble_avg_y_train[:,0])\n",
    "ax1.set_xlabel('lentiMPRA')\n",
    "ax1.set_ylabel('ensemble avg')\n",
    "ax1.set_title('activity')\n",
    "ax2.scatter(y_train[:,1], ensemble_avg_y_train[:,1])\n",
    "ax2.set_xlabel('lentiMPRA')\n",
    "ax2.set_ylabel('ensemble avg')\n",
    "ax2.set_title('aleatoric uncertainty')\n",
    "f.suptitle(f'{celltype} - train seqs')\n",
    "plt.show()"
   ]
  },
  {
   "cell_type": "markdown",
   "metadata": {},
   "source": [
    "# Update train/test/val data \n",
    "For distilling lentiMPRA models w/ mean+aleatoric+epistemic."
   ]
  },
  {
   "cell_type": "code",
   "execution_count": 22,
   "metadata": {},
   "outputs": [],
   "source": [
    "distill_y_train = np.hstack((ensemble_avg_y_train, epistemic_train))\n",
    "distill_y_test = np.hstack((y_test, epistemic_test))\n",
    "distill_y_val = np.hstack((y_val, epistemic_val))"
   ]
  },
  {
   "cell_type": "markdown",
   "metadata": {},
   "source": [
    "## Write data to h5 file"
   ]
  },
  {
   "cell_type": "code",
   "execution_count": 23,
   "metadata": {},
   "outputs": [],
   "source": [
    "if evoaug:\n",
    "    h5_fh = f\"{data_dir}/evoaug/{celltype}_distillation_data_with_epistemic.h5\"\n",
    "else:\n",
    "    h5_fh = f\"{data_dir}/{celltype}_distillation_data_with_epistemic.h5\"\n",
    "with h5py.File(h5_fh, 'w') as file:\n",
    "    # train\n",
    "    train = file.create_group(\"Train\")\n",
    "    train.create_dataset('X', data=X_train)\n",
    "    train.create_dataset('y', data=distill_y_train)\n",
    "\n",
    "    # test \n",
    "    test = file.create_group('Test')\n",
    "    test.create_dataset('X', data=X_test)\n",
    "    test.create_dataset('y', data=distill_y_test)\n",
    "\n",
    "    # val\n",
    "    val = file.create_group('Val')\n",
    "    val.create_dataset('X', data = X_val)\n",
    "    val.create_dataset('y', data=distill_y_val)"
   ]
  },
  {
   "cell_type": "markdown",
   "metadata": {},
   "source": [
    "## For downsampled data"
   ]
  },
  {
   "cell_type": "code",
   "execution_count": 6,
   "metadata": {},
   "outputs": [
    {
     "name": "stdout",
     "output_type": "stream",
     "text": [
      "downsample p=0.1\n",
      "downsample p=0.25\n",
      "downsample p=0.5\n",
      "downsample p=0.75\n"
     ]
    }
   ],
   "source": [
    "downsample_arr = [0.1, 0.25, 0.5, 0.75]\n",
    "# check ix \n",
    "for p in downsample_arr:\n",
    "    rng = np.random.default_rng(1234)\n",
    "    print(f'downsample p={p}')\n",
    "    generated_ix = downsample(X_train, y_train, rng, p, return_ix=True)\n",
    "    # load reference \n",
    "    ref_ix = np.load(f\"../data/lentiMPRA/{celltype}_downsample{p}_ix.npy\")\n",
    "    assert(np.all(generated_ix==ref_ix))"
   ]
  },
  {
   "cell_type": "code",
   "execution_count": 8,
   "metadata": {},
   "outputs": [
    {
     "data": {
      "text/plain": [
       "True"
      ]
     },
     "execution_count": 8,
     "metadata": {},
     "output_type": "execute_result"
    }
   ],
   "source": [
    "evoaug"
   ]
  },
  {
   "cell_type": "code",
   "execution_count": 10,
   "metadata": {},
   "outputs": [
    {
     "name": "stdout",
     "output_type": "stream",
     "text": [
      "downsample p=0.1\n",
      "(11152, 4)\n",
      "downsample p=0.25\n",
      "(27880, 4)\n",
      "downsample p=0.5\n",
      "(55759, 4)\n",
      "downsample p=0.75\n",
      "(83638, 4)\n"
     ]
    }
   ],
   "source": [
    "downsample_arr = [0.1, 0.25, 0.5, 0.75]\n",
    "\n",
    "for p in downsample_arr:\n",
    "    print(f'downsample p={p}')\n",
    "\n",
    "    # load ix of downsampled cases\n",
    "    ref_ix = np.load(f\"../data/lentiMPRA/{celltype}_downsample{p}_ix.npy\")\n",
    "\n",
    "    # load ensemble metrics from files \n",
    "    ensemble_avg_y_train, std_train, std_test, std_val = None, None, None, None  \n",
    "\n",
    "    # ensemble mean\n",
    "    if evoaug:\n",
    "        ensemble_avg_y_train = np.load(f\"../results/lentiMPRA_aleatoric_evoaug/{celltype}/downsample_{p}/ensemble_avg_y_train.npy\")\n",
    "    else:\n",
    "        ensemble_avg_y_train = np.load(f\"../results/lentiMPRA_aleatoric/{celltype}/downsample_{p}/ensemble_avg_y_train.npy\")\n",
    "\n",
    "    # ensemble stdev\n",
    "    if evoaug:\n",
    "        std_train = np.load(f\"../data/lentiMPRA/evoaug/{celltype}_downsample{p}_ensemble_std_train.npy\")\n",
    "        std_test = np.load(f\"../data/lentiMPRA/evoaug/{celltype}_downsample{p}_ensemble_std_test.npy\")\n",
    "        std_val = np.load(f\"../data/lentiMPRA/evoaug/{celltype}_downsample{p}_ensemble_std_val.npy\")\n",
    "    else:\n",
    "        std_train = np.load(f\"../data/lentiMPRA/{celltype}_downsample{p}_ensemble_std_train.npy\")\n",
    "        std_test = np.load(f\"../data/lentiMPRA/{celltype}_downsample{p}_ensemble_std_test.npy\")\n",
    "        std_val = np.load(f\"../data/lentiMPRA/{celltype}_downsample{p}_ensemble_std_val.npy\")\n",
    "\n",
    "    # assertions\n",
    "    assert(ref_ix.shape[0]==ensemble_avg_y_train.shape[0])\n",
    "    assert(ref_ix.shape[0]==std_train.shape[0])\n",
    "    assert(y_test.shape[0]==std_test.shape[0])\n",
    "    assert(y_val.shape[0]==std_val.shape[0])\n",
    "    \n",
    "    distill_y_train = np.hstack((ensemble_avg_y_train, std_train))\n",
    "    distill_y_test = np.hstack((y_test, std_test))\n",
    "    distill_y_val = np.hstack((y_val, std_val))\n",
    "\n",
    "    print(distill_y_train.shape)\n",
    "          \n",
    "    # write to h5\n",
    "    if evoaug:\n",
    "        h5_path = f'../data/lentiMPRA/evoaug/{celltype}_downsample{p}_distillation_data_with_epistemic.h5'\n",
    "    else:\n",
    "        h5_path = f'../data/lentiMPRA/{celltype}_downsample{p}_distillation_data_with_epistemic.h5'\n",
    "    hf = h5py.File(h5_path, 'w')\n",
    "\n",
    "    # write train data\n",
    "    train = hf.create_group(\"Train\")\n",
    "    train.create_dataset(\"X\", data = X_train[ref_ix,:,:])\n",
    "    train.create_dataset(\"y\", data=distill_y_train)\n",
    "\n",
    "    # write test data\n",
    "    test = hf.create_group(\"Test\")\n",
    "    test.create_dataset(\"X\", data=X_test)\n",
    "    test.create_dataset(\"y\", data=distill_y_test)\n",
    "\n",
    "    # write val data\n",
    "    val = hf.create_group(\"Val\")\n",
    "    val.create_dataset(\"X\", data=X_val)\n",
    "    val.create_dataset(\"y\", data=distill_y_val)\n",
    "    hf.close()"
   ]
  },
  {
   "cell_type": "code",
   "execution_count": null,
   "metadata": {},
   "outputs": [],
   "source": []
  }
 ],
 "metadata": {
  "kernelspec": {
   "display_name": "tf2",
   "language": "python",
   "name": "python3"
  },
  "language_info": {
   "codemirror_mode": {
    "name": "ipython",
    "version": 3
   },
   "file_extension": ".py",
   "mimetype": "text/x-python",
   "name": "python",
   "nbconvert_exporter": "python",
   "pygments_lexer": "ipython3",
   "version": "3.9.18"
  }
 },
 "nbformat": 4,
 "nbformat_minor": 2
}
