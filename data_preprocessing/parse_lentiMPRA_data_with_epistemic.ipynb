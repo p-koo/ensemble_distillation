{
 "cells": [
  {
   "cell_type": "markdown",
   "metadata": {},
   "source": [
    "Parse lentiMPRA data into format for modeling.\n",
    "\n",
    "\n",
    "\n",
    "[Data source](https://www.biorxiv.org/content/10.1101/2023.03.05.531189v1.supplementary-material)\n",
    "- Sequences: Supplementary Table 3\n",
    "- Target values: Supplementary Table 4 (summary level data, mean column)"
   ]
  },
  {
   "cell_type": "code",
   "execution_count": null,
   "metadata": {},
   "outputs": [],
   "source": []
  }
 ],
 "metadata": {
  "kernelspec": {
   "display_name": "tf2",
   "language": "python",
   "name": "python3"
  },
  "language_info": {
   "name": "python",
   "version": "3.9.18"
  }
 },
 "nbformat": 4,
 "nbformat_minor": 2
}
